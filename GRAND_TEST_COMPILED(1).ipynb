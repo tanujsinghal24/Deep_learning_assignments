{
 "cells": [
  {
   "cell_type": "markdown",
   "metadata": {
    "colab_type": "text",
    "id": "e4SzrKwJr70B"
   },
   "source": [
    "# SECTION I - CODING TEST\n"
   ]
  },
  {
   "cell_type": "markdown",
   "metadata": {
    "colab_type": "text",
    "id": "rIJuWZIxDVRe"
   },
   "source": [
    "## Part 1 - Numpy and ML Basics"
   ]
  },
  {
   "cell_type": "code",
   "execution_count": null,
   "metadata": {
    "colab": {},
    "colab_type": "code",
    "id": "E7wx-4htusIe"
   },
   "outputs": [],
   "source": [
    "import numpy as np"
   ]
  },
  {
   "cell_type": "markdown",
   "metadata": {
    "colab_type": "text",
    "id": "XHzEvg9Fx8pz"
   },
   "source": [
    "### Q Samples and Features\n",
    "Given a dataset in the form of a numpy array where axis = 0 indexes samples and axis = 1 indexes features. Write a function that returns number of samples in dataset and number of samples in each feature."
   ]
  },
  {
   "cell_type": "code",
   "execution_count": null,
   "metadata": {
    "deletable": false,
    "nbgrader": {
     "checksum": "44e8ac485db87cd5833cbbd1460e13ba",
     "grade": false,
     "grade_id": "cell-5e96ed30afc15a3e",
     "locked": false,
     "schema_version": 1,
     "solution": true
    }
   },
   "outputs": [],
   "source": [
    "def samps_feats(x):\n",
    "    \"\"\"\n",
    "    Inputs:\n",
    "        x: numpy array of shape (samples, features)\n",
    "    Outputs:\n",
    "        s: int, number of samples in x\n",
    "        f: int, number of features in x\n",
    "    \"\"\"\n",
    "    # YOUR CODE HERE\n",
    "    return s, f"
   ]
  },
  {
   "cell_type": "code",
   "execution_count": null,
   "metadata": {
    "deletable": false,
    "editable": false,
    "nbgrader": {
     "checksum": "a7c43c4975c749f6d4c26a168989ae20",
     "grade": true,
     "grade_id": "cell-bbe2be4b7abbd82a",
     "locked": true,
     "points": 1,
     "schema_version": 1,
     "solution": false
    }
   },
   "outputs": [],
   "source": [
    "\"\"\"Testing\"\"\"\n",
    "assert samps_feats(np.arange(12).reshape(4, 3)) == (4, 3)\n",
    "print('Sample Test passed', '\\U0001F44D')"
   ]
  },
  {
   "cell_type": "markdown",
   "metadata": {
    "colab_type": "text",
    "id": "8mPVeLBSyEZr"
   },
   "source": [
    "### Q Third Column"
   ]
  },
  {
   "cell_type": "code",
   "execution_count": null,
   "metadata": {
    "colab": {},
    "colab_type": "code",
    "deletable": false,
    "id": "hzWD9sP_m6qx",
    "nbgrader": {
     "checksum": "4f0e0638800f8c0631b4c18acc2c4907",
     "grade": false,
     "grade_id": "cell-592b835e0cfd264a",
     "locked": false,
     "schema_version": 1,
     "solution": true
    }
   },
   "outputs": [],
   "source": [
    "def thirdColumn(a):\n",
    "  '''\n",
    "  Given a two dimensional array a of shape (m, n) m>=3, n>=3. Return the third column of a.\n",
    "  \n",
    "  Input: \n",
    "      a: Numpy array of shape (m, n)\n",
    "  Output:\n",
    "      c:  Numpy array of shape (m,)\n",
    "     \n",
    "  '''\n",
    "  # YOUR CODE HERE"
   ]
  },
  {
   "cell_type": "code",
   "execution_count": null,
   "metadata": {
    "colab": {},
    "colab_type": "code",
    "deletable": false,
    "editable": false,
    "id": "u3193NBHwAw7",
    "nbgrader": {
     "checksum": "92e03f464f701dfd37cd0605895540d0",
     "grade": true,
     "grade_id": "cell-42d7a633a168e12f",
     "locked": true,
     "points": 1,
     "schema_version": 1,
     "solution": false
    }
   },
   "outputs": [],
   "source": [
    "\"\"\"Tests\"\"\"\n",
    "a = np.arange(9).reshape(3, 3)\n",
    "assert np.all(thirdColumn(a) == np.array([2, 5, 8]))\n",
    "print('Test passed', '\\U0001F44D')\n",
    "\n"
   ]
  },
  {
   "cell_type": "markdown",
   "metadata": {
    "colab_type": "text",
    "id": "cXb6KuDVx4AU"
   },
   "source": [
    "### Q Precision\n",
    "Given a confusion matrix $cm$ of shape ($N_y$, $N_y$) and a class $cls$ where $0<=cls<=N_y-1$. \n",
    "Compute and return the precision for that class from the confusion matrix \n",
    "\n"
   ]
  },
  {
   "cell_type": "code",
   "execution_count": null,
   "metadata": {
    "colab": {},
    "colab_type": "code",
    "deletable": false,
    "id": "6YuZdVnfjeQt",
    "nbgrader": {
     "checksum": "a20393c1aff47f0ebda37487507043a7",
     "grade": false,
     "grade_id": "cell-cabf3cdd9585e5bd",
     "locked": false,
     "schema_version": 1,
     "solution": true
    }
   },
   "outputs": [],
   "source": [
    "def precision(cm, cls):\n",
    "    \"\"\"\n",
    "    Inputs:\n",
    "        cm : np array of shape (Ny, Ny)\n",
    "        cls : int, 0<=cls<=Ny-1\n",
    "    Outputs:\n",
    "        prec : float, precision of class cls in cm\n",
    "    \"\"\"\n",
    "    # YOUR CODE HERE\n",
    "    return prec"
   ]
  },
  {
   "cell_type": "code",
   "execution_count": null,
   "metadata": {
    "colab": {},
    "colab_type": "code",
    "deletable": false,
    "editable": false,
    "id": "5-c8ahs-l9BT",
    "nbgrader": {
     "checksum": "9b6a50eb9bea313ff65a568616dc77a4",
     "grade": true,
     "grade_id": "cell-760a0d18c030c768",
     "locked": true,
     "points": 2,
     "schema_version": 1,
     "solution": false
    }
   },
   "outputs": [],
   "source": [
    "\"\"\"Test for precision\"\"\"\n",
    "cm = np.arange(9).reshape(3, 3)\n",
    "assert np.isclose(precision(cm, 2), 0.5333333333, atol = 0.001) \n",
    "print('Sample Test passed', '\\U0001F44D')"
   ]
  },
  {
   "cell_type": "markdown",
   "metadata": {
    "colab_type": "text",
    "id": "gWYSUwkByBoh"
   },
   "source": [
    "### Q Sigmoid derivative\n",
    "Given an input $z$. Write a function that returns the derivative of the sigmoid($\\sigma$) function.<br>\n",
    "$\\sigma(z) = \\frac{1}{1+e^z}$"
   ]
  },
  {
   "cell_type": "code",
   "execution_count": null,
   "metadata": {
    "deletable": false,
    "nbgrader": {
     "checksum": "3ade2c31a474ab8bba350fa4198e0903",
     "grade": false,
     "grade_id": "cell-e0cab6ca0f4ccc5c",
     "locked": false,
     "schema_version": 1,
     "solution": true
    }
   },
   "outputs": [],
   "source": [
    "def sigmoid_derivative(z):\n",
    "    \"\"\"\n",
    "    Inputs:\n",
    "        z: float, input \n",
    "    Outputs:\n",
    "        sig_der: float, derivative of sigmoid function at z\n",
    "    \"\"\"\n",
    "    # YOUR CODE HERE\n",
    "    return sig_der"
   ]
  },
  {
   "cell_type": "code",
   "execution_count": null,
   "metadata": {
    "deletable": false,
    "editable": false,
    "nbgrader": {
     "checksum": "4ac509a95230fa331e98a8d9d4d7ce7e",
     "grade": true,
     "grade_id": "cell-48064ee9114778b4",
     "locked": true,
     "points": 2,
     "schema_version": 1,
     "solution": false
    }
   },
   "outputs": [],
   "source": [
    "assert np.isclose(sigmoid_derivative(99999), 0, atol = 0.0001)\n",
    "print(\"Sample Tests passed\", '\\U0001F44D')"
   ]
  },
  {
   "cell_type": "markdown",
   "metadata": {
    "colab_type": "text",
    "id": "5vlqSaIFyIGv"
   },
   "source": [
    "### Q   Find mean value in each column\n",
    "Find mean value in each column in a numpy 2-d array and return the 1-d array\n"
   ]
  },
  {
   "cell_type": "code",
   "execution_count": null,
   "metadata": {
    "colab": {},
    "colab_type": "code",
    "deletable": false,
    "id": "0LX5p9CmwKHb",
    "nbgrader": {
     "checksum": "ec50db327b976ec85ed141463265e631",
     "grade": false,
     "grade_id": "cell-c70acfa1ba68a9e8",
     "locked": false,
     "schema_version": 1,
     "solution": true
    }
   },
   "outputs": [],
   "source": [
    "def find_mean_column_wise(a):\n",
    "  '''  \n",
    "  Input:\n",
    "      a: numpy array of shape (m, n)\n",
    "  Output:\n",
    "      b: numpy array of shape (n, )\n",
    "  \n",
    "  '''\n",
    "  # YOUR CODE HERE\n",
    "  return b"
   ]
  },
  {
   "cell_type": "code",
   "execution_count": null,
   "metadata": {
    "colab": {},
    "colab_type": "code",
    "deletable": false,
    "editable": false,
    "id": "bg_ZJBpZfkz2",
    "nbgrader": {
     "checksum": "176b681a75324200d44933374101c6d8",
     "grade": true,
     "grade_id": "cell-f77fbcfbf0e4d1e3",
     "locked": true,
     "points": 3,
     "schema_version": 1,
     "solution": false
    }
   },
   "outputs": [],
   "source": [
    "\"\"\"Testing\"\"\"\n",
    "a = find_mean_column_wise(np.array([[9, 6, 4],[8, 6, 1],[5, 3, 6],[3, 3, 3],[2, 1, 7]]))\n",
    "assert np.all(np.isclose(a, np.array([5.4, 3.8, 4.2])))\n",
    "print('Test passed', '\\U0001F44D')"
   ]
  },
  {
   "cell_type": "markdown",
   "metadata": {
    "colab_type": "text",
    "id": "3nGJviA1yl_S"
   },
   "source": [
    "## Part 2 - Keras with MLN (Heart Disease Dataset)"
   ]
  },
  {
   "cell_type": "markdown",
   "metadata": {
    "colab_type": "text",
    "id": "jlNcWjBTzFXc"
   },
   "source": [
    "#### Import libraries and Data"
   ]
  },
  {
   "cell_type": "code",
   "execution_count": null,
   "metadata": {
    "colab": {},
    "colab_type": "code",
    "id": "Jce8pZ3DytAo"
   },
   "outputs": [],
   "source": [
    "import pandas as pd\n",
    "import numpy as np\n",
    "import matplotlib.pyplot as plt\n",
    "import requests"
   ]
  },
  {
   "cell_type": "code",
   "execution_count": null,
   "metadata": {
    "colab": {},
    "colab_type": "code",
    "id": "PVTn0rcEzZN5"
   },
   "outputs": [],
   "source": [
    "### Downloading data from google drive. You need not mess with this code.\n",
    "\n",
    "import requests\n",
    "\n",
    "def download_file_from_google_drive(id, destination):\n",
    "    URL = \"https://docs.google.com/uc?export=download\"\n",
    "\n",
    "    session = requests.Session()\n",
    "\n",
    "    response = session.get(URL, params = { 'id' : id }, stream = True)\n",
    "    token = get_confirm_token(response)\n",
    "\n",
    "    if token:\n",
    "        params = { 'id' : id, 'confirm' : token }\n",
    "        response = session.get(URL, params = params, stream = True)\n",
    "\n",
    "    save_response_content(response, destination)    \n",
    "\n",
    "def get_confirm_token(response):\n",
    "    for key, value in response.cookies.items():\n",
    "        if key.startswith('download_warning'):\n",
    "            return value\n",
    "    return None\n",
    "\n",
    "def save_response_content(response, destination):\n",
    "    CHUNK_SIZE = 32768\n",
    "\n",
    "    with open(destination, \"wb\") as f:\n",
    "        for chunk in response.iter_content(CHUNK_SIZE):\n",
    "            if chunk: # filter out keep-alive new chunks\n",
    "                f.write(chunk)\n",
    "                \n",
    "if __name__ == \"__main__\":\n",
    "    file_id = '1vuqmYrgmXD5NE2-mN3qNrsg8l1wCaiif'\n",
    "    destination = 'heart.csv'\n",
    "    download_file_from_google_drive(file_id, destination)"
   ]
  },
  {
   "cell_type": "markdown",
   "metadata": {
    "colab_type": "text",
    "id": "IgKz_tfbzkFr"
   },
   "source": [
    "#### Segregating input and output data\n"
   ]
  },
  {
   "cell_type": "code",
   "execution_count": null,
   "metadata": {
    "colab": {},
    "colab_type": "code",
    "id": "fdLpk4JdzdOk"
   },
   "outputs": [],
   "source": [
    "import pandas as pd\n",
    "import numpy as np\n",
    "import matplotlib.pyplot as plt\n",
    "import requests\n",
    "\n",
    "\n",
    "# Importing and cleaning data using pandas library\n",
    "data = pd.read_csv('heart.csv')\n",
    "\n",
    "## Last column is output features. Rest are inputs\n",
    "X = data.iloc[:, 0:-1].values\n",
    "\n",
    "# Last column is output labels\n",
    "y = data.iloc[:, -1].values"
   ]
  },
  {
   "cell_type": "markdown",
   "metadata": {
    "colab_type": "text",
    "id": "itS2U3_bzvvJ"
   },
   "source": [
    "### Question 1\n",
    "#### Visualizing the data output"
   ]
  },
  {
   "cell_type": "code",
   "execution_count": null,
   "metadata": {
    "colab": {},
    "colab_type": "code",
    "deletable": false,
    "id": "gxQNwAjSztCC",
    "nbgrader": {
     "checksum": "69334b69b7dbcade287d1c5ae04650dd",
     "grade": false,
     "grade_id": "cell-325781143dca3b66",
     "locked": false,
     "schema_version": 1,
     "solution": true
    }
   },
   "outputs": [],
   "source": [
    "# find the number of classes in the output data in this classification problem\n",
    "def Num_of_classes(y_raw):\n",
    "    \"\"\"\n",
    "    Inputs:\n",
    "        y_raw: numpy array of labels\n",
    "    Outputs:\n",
    "        Ny: number of classes\n",
    "    \"\"\"\n",
    "    # YOUR CODE HERE\n",
    "    \n",
    "    return Ny"
   ]
  },
  {
   "cell_type": "code",
   "execution_count": null,
   "metadata": {
    "colab": {},
    "colab_type": "code",
    "deletable": false,
    "editable": false,
    "id": "4SSZJsOoz0IJ",
    "nbgrader": {
     "checksum": "ac905d0d42cbaaccf34d7c2fc5d029f7",
     "grade": true,
     "grade_id": "cell-b3920480ab5580aa",
     "locked": true,
     "points": 1,
     "schema_version": 1,
     "solution": false
    }
   },
   "outputs": [],
   "source": [
    "\"\"\"Test for Num_of_classes\"\"\""
   ]
  },
  {
   "cell_type": "markdown",
   "metadata": {
    "colab_type": "text",
    "id": "vlz--if_z-yp"
   },
   "source": [
    "### Question 2\n",
    "#### one-hot encoding"
   ]
  },
  {
   "cell_type": "code",
   "execution_count": null,
   "metadata": {
    "colab": {},
    "colab_type": "code",
    "deletable": false,
    "id": "qEmR2nPoz6rw",
    "nbgrader": {
     "checksum": "15ae80ea7cd70d80bd1113400531b11c",
     "grade": false,
     "grade_id": "cell-fdb5d153c6e6e7e8",
     "locked": false,
     "schema_version": 1,
     "solution": true
    }
   },
   "outputs": [],
   "source": [
    "#Use Keras to do One-hot encoding\n",
    "def keras_one_hot(y_int, ny):\n",
    "  '''\n",
    "  Input:\n",
    "      y_int: an int in {0, Ny -1 }\n",
    "      ny: Number of classes, e.g., 2 here.\n",
    "  Output:\n",
    "      Y: a vector of shape (Ny,)\n",
    "  '''\n",
    "  # YOUR CODE HERE\n",
    "  return Y"
   ]
  },
  {
   "cell_type": "code",
   "execution_count": null,
   "metadata": {
    "colab": {},
    "colab_type": "code",
    "deletable": false,
    "editable": false,
    "id": "YYSdy27e0FFu",
    "nbgrader": {
     "checksum": "2e02727db2f1abfe9555316bfb6d2fb8",
     "grade": true,
     "grade_id": "cell-fd6e8b2a42b86195",
     "locked": true,
     "points": 2,
     "schema_version": 1,
     "solution": false
    }
   },
   "outputs": [],
   "source": [
    "\"\"\"Test for keras_one_hot\"\"\""
   ]
  },
  {
   "cell_type": "markdown",
   "metadata": {
    "colab_type": "text",
    "id": "QbV9R2Ps0KFi"
   },
   "source": [
    "### Question 3\n",
    "#### Create Y_o which is one-hot encoding of Y using above functions"
   ]
  },
  {
   "cell_type": "code",
   "execution_count": null,
   "metadata": {
    "colab": {},
    "colab_type": "code",
    "deletable": false,
    "id": "ujo5fxM40HGw",
    "nbgrader": {
     "checksum": "1290349188dc7a19a1c64e7508184765",
     "grade": false,
     "grade_id": "cell-a448645c12ef97f2",
     "locked": false,
     "schema_version": 1,
     "solution": true
    }
   },
   "outputs": [],
   "source": [
    "def create_Y_o(y):\n",
    "    \"\"\"\n",
    "    Inputs:\n",
    "        y: numpy array of class labels\n",
    "    Outputs:\n",
    "        Y_o: numpy array of shape(samples, Ny) with one-hot encodings of y\n",
    "        ny: number of unique classes\n",
    "    \"\"\"\n",
    "    \n",
    "    # YOUR CODE HERE\n",
    "    \n",
    "    return Y_o, ny\n",
    "\n",
    "Y_o, ny = create_Y_o(y)"
   ]
  },
  {
   "cell_type": "code",
   "execution_count": null,
   "metadata": {
    "colab": {},
    "colab_type": "code",
    "deletable": false,
    "editable": false,
    "id": "-ckgqnNe0RAm",
    "nbgrader": {
     "checksum": "d47f177da8b3d4e2fa8ee1152c40ec6b",
     "grade": true,
     "grade_id": "cell-0a7501407e4aea79",
     "locked": true,
     "points": 2,
     "schema_version": 1,
     "solution": false
    }
   },
   "outputs": [],
   "source": [
    "\"\"\"Test for create_Y_o\"\"\""
   ]
  },
  {
   "cell_type": "markdown",
   "metadata": {
    "colab_type": "text",
    "id": "HGxilUax0b2d"
   },
   "source": [
    "### Question 4\n",
    "#### Split the data into train data and test data"
   ]
  },
  {
   "cell_type": "code",
   "execution_count": null,
   "metadata": {
    "colab": {},
    "colab_type": "code",
    "deletable": false,
    "id": "EjB6_20T0XJM",
    "nbgrader": {
     "checksum": "111d4e30a779097eb0f9af3d72c527b7",
     "grade": false,
     "grade_id": "cell-90f585b9d28d09a3",
     "locked": false,
     "schema_version": 1,
     "solution": true
    }
   },
   "outputs": [],
   "source": [
    "# Split data into train and test. Keep 10% of samples for testing\n",
    "# Divide the data into these variables - X_train, X_test, y_train, y_test\n",
    "\n",
    "\n",
    "from sklearn.model_selection import train_test_split\n",
    "\n",
    "# YOUR CODE HERE"
   ]
  },
  {
   "cell_type": "code",
   "execution_count": null,
   "metadata": {
    "colab": {},
    "colab_type": "code",
    "deletable": false,
    "editable": false,
    "id": "oyOCGJRB0hmf",
    "nbgrader": {
     "checksum": "5977ece45013682dbc21cf6a53a3b5b4",
     "grade": true,
     "grade_id": "cell-4f278c6930c3ec50",
     "locked": true,
     "points": 2,
     "schema_version": 1,
     "solution": false
    }
   },
   "outputs": [],
   "source": [
    "\"\"\"test for splitting\"\"\""
   ]
  },
  {
   "cell_type": "markdown",
   "metadata": {
    "colab_type": "text",
    "id": "ryRznnBF0mVl"
   },
   "source": [
    "### Question 5\n",
    "#### Find mean and standard deviation of input data for normalization\n"
   ]
  },
  {
   "cell_type": "code",
   "execution_count": null,
   "metadata": {
    "colab": {},
    "colab_type": "code",
    "deletable": false,
    "id": "xuOJ1NVT0jab",
    "nbgrader": {
     "checksum": "ad52b18956ff6b650f64d89f9cc14180",
     "grade": false,
     "grade_id": "cell-07655e5eea8b4370",
     "locked": false,
     "schema_version": 1,
     "solution": true
    }
   },
   "outputs": [],
   "source": [
    "## Normalize the Data\n",
    "def findMeanStddev(X):\n",
    "    '''\n",
    "    Input: \n",
    "        X: a matrix of size (no. of samples, dimension of each sample)\n",
    "    Output:\n",
    "        mean: mean of samples in X (same size as X)\n",
    "        stddev: element-wise std dev of sample in X (same size as X)\n",
    "    '''\n",
    "    # YOUR CODE HERE\n",
    "    \n",
    "    return mean, stddev\n"
   ]
  },
  {
   "cell_type": "code",
   "execution_count": null,
   "metadata": {
    "colab": {},
    "colab_type": "code",
    "deletable": false,
    "editable": false,
    "id": "IRCOiSvc0qnB",
    "nbgrader": {
     "checksum": "264fbfee1852ceac4721d1718e352bda",
     "grade": true,
     "grade_id": "cell-644dd1a507ca5f16",
     "locked": true,
     "points": 2,
     "schema_version": 1,
     "solution": false
    }
   },
   "outputs": [],
   "source": [
    "\"\"\"test for findMeanStdev\"\"\"\n"
   ]
  },
  {
   "cell_type": "markdown",
   "metadata": {
    "colab_type": "text",
    "id": "SJXe1_4p00ad"
   },
   "source": [
    "### Question 6\n",
    "#### Normalization"
   ]
  },
  {
   "cell_type": "code",
   "execution_count": null,
   "metadata": {
    "colab": {},
    "colab_type": "code",
    "deletable": false,
    "id": "Y3UmOrS60sQ2",
    "nbgrader": {
     "checksum": "f55a3ac19226233813fd29b6a3c65006",
     "grade": false,
     "grade_id": "cell-de210b0c0b54e506",
     "locked": false,
     "schema_version": 1,
     "solution": true
    }
   },
   "outputs": [],
   "source": [
    "def normalizeX(X, mean, stddev):\n",
    "    '''\n",
    "    Input:\n",
    "        X: a matrix of size (no. of samples, dimension of each sample)\n",
    "        mean: mean of samples in X (same size as X)\n",
    "        stddev: element-wise std dev of sample in X (same size as X) \n",
    "    Output:\n",
    "        Xn: X modified to have 0 mean and 1 std dev\n",
    "    '''\n",
    "    # YOUR CODE HERE\n",
    "    \n",
    "    return Xn\n",
    "\n",
    "mean_train, stddev_train = findMeanStddev(X_train)\n",
    "X_train = normalizeX(X_train, mean_train, stddev_train)\n",
    "X_test = normalizeX(X_test, mean_train, stddev_train)"
   ]
  },
  {
   "cell_type": "code",
   "execution_count": null,
   "metadata": {
    "colab": {},
    "colab_type": "code",
    "deletable": false,
    "editable": false,
    "id": "M-cIQB6R08M7",
    "nbgrader": {
     "checksum": "6728e4b0642b62e24363af1ae459a285",
     "grade": true,
     "grade_id": "cell-dff88f05fb986621",
     "locked": true,
     "points": 3,
     "schema_version": 1,
     "solution": false
    }
   },
   "outputs": [],
   "source": [
    "\"\"\"Test for Normalization\"\"\"\n"
   ]
  },
  {
   "cell_type": "markdown",
   "metadata": {
    "colab_type": "text",
    "id": "jMzl_TAZ1BiU"
   },
   "source": [
    "### Question 7\n",
    "#### Creating and training the model"
   ]
  },
  {
   "cell_type": "code",
   "execution_count": null,
   "metadata": {
    "colab": {},
    "colab_type": "code",
    "deletable": false,
    "id": "3hnRFD6-0-BB",
    "nbgrader": {
     "checksum": "cc86f6e413ddfb36e7cecf916b38b0cf",
     "grade": false,
     "grade_id": "cell-a5a12aabd0c3d59e",
     "locked": false,
     "schema_version": 1,
     "solution": true
    }
   },
   "outputs": [],
   "source": [
    "import keras\n",
    "def create_model():\n",
    "    \"\"\"\n",
    "    Create the NN model using Keras with single hidden layer of 10 neurons.\n",
    "    Use sigmoid activation at the hidden layer and softmax activation at the output layer.\n",
    "    Use the sgd optimizer and categorical_crossentropy for the loss.\n",
    "    \n",
    "    Inputs:\n",
    "        None\n",
    "    Outputs:\n",
    "        model: keras model after compiling\n",
    "    \"\"\"\n",
    "    # YOUR CODE HERE\n",
    "    \n",
    "    return model\n",
    "  \n",
    "model = create_model()"
   ]
  },
  {
   "cell_type": "code",
   "execution_count": null,
   "metadata": {
    "colab": {},
    "colab_type": "code",
    "id": "Nph2LA1I1LSJ"
   },
   "outputs": [],
   "source": [
    "# PROVIDE THE ANSWER HERE\n",
    "# Eg if Total Parameters in the above model is 100 then write Total_Params = 100 below\n",
    "\n",
    "Total_Params = "
   ]
  },
  {
   "cell_type": "code",
   "execution_count": null,
   "metadata": {
    "colab": {},
    "colab_type": "code",
    "deletable": false,
    "editable": false,
    "id": "qwpS_nsK1PxE",
    "nbgrader": {
     "checksum": "140f1d63aa9d3b66cd7a9f11eca12dfa",
     "grade": true,
     "grade_id": "cell-98e8b63c2572431d",
     "locked": true,
     "points": 5,
     "schema_version": 1,
     "solution": false
    }
   },
   "outputs": [],
   "source": [
    "\"\"\"Test for create model\"\"\""
   ]
  },
  {
   "cell_type": "code",
   "execution_count": null,
   "metadata": {
    "colab": {},
    "colab_type": "code",
    "id": "gakEfupx1TCW"
   },
   "outputs": [],
   "source": [
    "## Create the Model and training (Code given)\n",
    "model = create_model()\n",
    "history = model.fit(X_train, y_train, epochs=15, batch_size = 10, validation_split = 0.1)"
   ]
  },
  {
   "cell_type": "code",
   "execution_count": null,
   "metadata": {
    "colab": {},
    "colab_type": "code",
    "id": "HzwIq0kI1bXk"
   },
   "outputs": [],
   "source": [
    "## Plotting the accuracy with iterations (Code given)\n",
    "from matplotlib import pyplot as plt\n",
    "plt.plot(history.history['val_acc'])"
   ]
  },
  {
   "cell_type": "code",
   "execution_count": null,
   "metadata": {
    "colab": {},
    "colab_type": "code",
    "deletable": false,
    "editable": false,
    "id": "7smhZ5dB10Cp",
    "nbgrader": {
     "checksum": "a0f98df6eb12d8d38a1d29f00357c763",
     "grade": true,
     "grade_id": "cell-d0bf3781ee836622",
     "locked": true,
     "points": 6,
     "schema_version": 1,
     "solution": false
    }
   },
   "outputs": [],
   "source": [
    "\"\"\"Test for model\"\"\"\n"
   ]
  },
  {
   "cell_type": "markdown",
   "metadata": {
    "colab_type": "text",
    "id": "8WNq6V_S5Y4m"
   },
   "source": [
    "## Part 3 - NLP\n"
   ]
  },
  {
   "cell_type": "markdown",
   "metadata": {
    "colab_type": "text",
    "id": "Rsl-NF9wDloK"
   },
   "source": [
    "### Character-level Neural Language Model in Keras\n",
    "A language model that predicts the next word in the sequence based on the specific words that have come before it in the sequence."
   ]
  },
  {
   "cell_type": "markdown",
   "metadata": {
    "colab_type": "text",
    "id": "r0wCWIsq-NtS"
   },
   "source": [
    "### Importing Libraries and Loading data\n",
    "The nursery rhyme \"Sing a Song of Sixpence\" is well known in the west.\n",
    "\n",
    "The first verse is common, but there is also a 4 verse version that we will use to develop our character-based language model."
   ]
  },
  {
   "cell_type": "code",
   "execution_count": null,
   "metadata": {
    "colab": {},
    "colab_type": "code",
    "id": "xOVouRLf3yT6"
   },
   "outputs": [],
   "source": [
    "from numpy import array\n",
    "from pickle import dump\n",
    "from keras.utils import to_categorical\n",
    "from keras.models import Sequential\n",
    "from keras.layers import Dense\n",
    "from keras.layers import LSTM\n",
    "\n",
    "raw_text = \"\"\"Sing a song of sixpence,\n",
    "A pocket full of rye.\n",
    "Four and twenty blackbirds,\n",
    "Baked in a pie.\n",
    " \n",
    "When the pie was opened\n",
    "The birds began to sing;\n",
    "Wasn't that a dainty dish,\n",
    "To set before the king.\n",
    " \n",
    "The king was in his counting house,\n",
    "Counting out his money;\n",
    "The queen was in the parlour,\n",
    "Eating bread and honey.\n",
    " \n",
    "The maid was in the garden,\n",
    "Hanging out the clothes,\n",
    "When down came a blackbird\n",
    "And pecked off her nose.\"\"\""
   ]
  },
  {
   "cell_type": "markdown",
   "metadata": {
    "colab_type": "text",
    "id": "dU4U7OPd-iNT"
   },
   "source": [
    "### Question 1\n",
    "#### Preprocess"
   ]
  },
  {
   "cell_type": "code",
   "execution_count": null,
   "metadata": {
    "colab": {},
    "colab_type": "code",
    "deletable": false,
    "id": "Oe-lkusH-L2k",
    "nbgrader": {
     "checksum": "a7c9aa29e9b258e9a1f2c79248f82dbd",
     "grade": false,
     "grade_id": "cell-677facdf3167dca0",
     "locked": false,
     "schema_version": 1,
     "solution": true
    }
   },
   "outputs": [],
   "source": [
    "length = 10\n",
    "def preprocess(raw_text,length):\n",
    "    \"\"\"\n",
    "    Input:\n",
    "        raw_text: a sequence of characters\n",
    "          length: length of characters in 'sequences'(output) list \n",
    "    \n",
    "    Action:\n",
    "        \n",
    "        1. Tokenize the raw_text\n",
    "        2. Split the string in chunk of 'length' characters. For example, your output should look like sequences = ['Sing a song', 'ing a song ', 'ng a song o', ...]\n",
    "        \n",
    "    Output:\n",
    "        tokens: a list obtained after splitting the raw_text\n",
    "        sequences: a list obtained after splitting the 'raw_text' string in chunk of ('length') characters\n",
    "    \"\"\"\n",
    "    # YOUR CODE HERE\n",
    "    return sequences, tokens, raw_text\n",
    "    \n",
    "    \n",
    "sequences, tokens, raw_text = preprocess(raw_text,length)"
   ]
  },
  {
   "cell_type": "code",
   "execution_count": null,
   "metadata": {
    "colab": {},
    "colab_type": "code",
    "deletable": false,
    "editable": false,
    "id": "uvVfG5f8-v1X",
    "nbgrader": {
     "checksum": "47eded404bc5281ad0219c340225cd39",
     "grade": true,
     "grade_id": "cell-fa0e273fc35e3ae0",
     "locked": true,
     "points": 3,
     "schema_version": 1,
     "solution": false
    }
   },
   "outputs": [],
   "source": [
    "'''test for preprocess'''"
   ]
  },
  {
   "cell_type": "markdown",
   "metadata": {
    "colab_type": "text",
    "id": "usKDip4BEjtY"
   },
   "source": [
    "### Question 2\n",
    "####Mapping"
   ]
  },
  {
   "cell_type": "code",
   "execution_count": null,
   "metadata": {
    "colab": {},
    "colab_type": "code",
    "deletable": false,
    "id": "h87SJmGnE49i",
    "nbgrader": {
     "checksum": "7118fbbf3843fced9e53404b92621a88",
     "grade": false,
     "grade_id": "cell-31388153b6f2c37f",
     "locked": false,
     "schema_version": 1,
     "solution": true
    }
   },
   "outputs": [],
   "source": [
    "def mapp(raw_text):\n",
    "    \"\"\"\n",
    "    Input:\n",
    "        raw_text: 1d list\n",
    "    \n",
    "    Actions: \n",
    "        \n",
    "        IMP: FOLLOW THE ACTIONS GIVEN BELOW IN THE PRESCRIBED SEQUENCES\n",
    "        \n",
    "        1. Create a set of raw_text\n",
    "        2. Convert it into a list\n",
    "        3. Sort the list and store it into a list (say chars) \n",
    "        \n",
    "        Note: You can use inbuilt functions like set(), sorted(), list(), etc. \n",
    "        \n",
    "        4. Create dictionary (say mapping) where each key is character present in sorted list 'chars' (Hint: use enumerate(chars))\n",
    "        \n",
    "    Output:\n",
    "        mapping: dictionary\n",
    "    \"\"\" \n",
    "    # YOUR CODE HERE\n",
    "    \n",
    "mapping = mapp(raw_text)\n",
    "vocab_size = len(mapping)"
   ]
  },
  {
   "cell_type": "code",
   "execution_count": null,
   "metadata": {
    "colab": {},
    "colab_type": "code",
    "deletable": false,
    "editable": false,
    "id": "1tq1FUqdE5IG",
    "nbgrader": {
     "checksum": "d5628d69bed063c6f24af6b06b1a1e13",
     "grade": true,
     "grade_id": "cell-9d51f92b9b734c27",
     "locked": true,
     "points": 2,
     "schema_version": 1,
     "solution": false
    }
   },
   "outputs": [],
   "source": [
    "'''test for mapp'''\n"
   ]
  },
  {
   "cell_type": "markdown",
   "metadata": {
    "colab_type": "text",
    "id": "tZJGVCHLE4XP"
   },
   "source": [
    "### Question 3\n",
    "####Encode Sequences"
   ]
  },
  {
   "cell_type": "code",
   "execution_count": null,
   "metadata": {
    "colab": {},
    "colab_type": "code",
    "deletable": false,
    "id": "Je_ZjUjbFNMd",
    "nbgrader": {
     "checksum": "ad0fce2184fa9c4450e2ece5f487186c",
     "grade": false,
     "grade_id": "cell-dd1ebeaad3a4fc3e",
     "locked": false,
     "schema_version": 1,
     "solution": true
    }
   },
   "outputs": [],
   "source": [
    "def encode(sequences,mapping):\n",
    "    \"\"\"\n",
    "    Input:\n",
    "        sequences: 1d list\n",
    "        mapping : dictionary\n",
    "    \n",
    "    Action: \n",
    "        Encode all the sequences to corroponding dictionary mapping (integers) and store it in the 'sequences_encode' np array\n",
    "        For E.g: sequences[0] = 'Sing a song'\n",
    "                 sequences_encode[0] = [11 22 26 20  0 14  0 31 27 26 20]\n",
    "                 \n",
    "                 where S=11, i=22, n=26, etc. have been assigned to dictionary 'mapping'\n",
    "        \n",
    "        Important: data-type of sequences_encode should be numpy.ndarray.\n",
    "    \n",
    "    Output:\n",
    "        sequences_encode: np 2d array\n",
    "    \"\"\"\n",
    "    # YOUR CODE HERE\n",
    "    \n",
    "sequences_encode = encode(sequences,mapping)"
   ]
  },
  {
   "cell_type": "code",
   "execution_count": null,
   "metadata": {
    "colab": {},
    "colab_type": "code",
    "deletable": false,
    "editable": false,
    "id": "q68wJ4C0FPsF",
    "nbgrader": {
     "checksum": "84f4c3560b8ee96ad4c7efcc5e6bfde2",
     "grade": true,
     "grade_id": "cell-84c0a9d1c9480f15",
     "locked": true,
     "points": 3,
     "schema_version": 1,
     "solution": false
    }
   },
   "outputs": [],
   "source": [
    "'''test for encode'''\n",
    "def test_encode():\n",
    "  assert sequences_encode.shape == (399,11)\n",
    "  print('Test passed', '\\U0001F44D')\n",
    "test_encode()"
   ]
  },
  {
   "cell_type": "markdown",
   "metadata": {
    "colab_type": "text",
    "id": "t7GoZbCjFTVT"
   },
   "source": [
    "###Question 4\n",
    "####Split Input and Output\n",
    "\n",
    "Now that the sequences have been integer encoded, we can separate the columns into input and output sequences of characters. <br>\n",
    "First 10 characters will be our input and 11th character will be our output corrosponding to it."
   ]
  },
  {
   "cell_type": "code",
   "execution_count": null,
   "metadata": {
    "colab": {},
    "colab_type": "code",
    "deletable": false,
    "id": "qmp1t42RFSmP",
    "nbgrader": {
     "checksum": "3e5b66b84ebe589478932acb031eedcd",
     "grade": false,
     "grade_id": "cell-d889309e55ddcf83",
     "locked": false,
     "schema_version": 1,
     "solution": true
    }
   },
   "outputs": [],
   "source": [
    "def split(sequences_encode):\n",
    "    \"\"\"\n",
    "    Input:\n",
    "        sequences_encode: np 2d array\n",
    "        \n",
    "    Action: Separate the columns into input and output sequences of characters. \n",
    "            First 10 characters will be our input (X) and 11th character will be our output (y) corrosponding to it.\n",
    "            \n",
    "    Output:\n",
    "        X: np 2d array\n",
    "        Y: np array\n",
    "    \"\"\"\n",
    "    # YOUR CODE HERE\n",
    "    \n",
    "X, y = split(sequences_encode)"
   ]
  },
  {
   "cell_type": "code",
   "execution_count": null,
   "metadata": {
    "colab": {},
    "colab_type": "code",
    "deletable": false,
    "editable": false,
    "id": "xWLKr7wgFglW",
    "nbgrader": {
     "checksum": "82ff2140204be07442ebd6dc461cd663",
     "grade": true,
     "grade_id": "cell-5f23b1b2b4fe44d5",
     "locked": true,
     "points": 2,
     "schema_version": 1,
     "solution": false
    }
   },
   "outputs": [],
   "source": [
    "'''test for split'''\n",
    "def test_split():\n",
    "  assert X.shape == (399,10)\n",
    "  print('Test passed', '\\U0001F44D')\n",
    "test_split()"
   ]
  },
  {
   "cell_type": "markdown",
   "metadata": {
    "colab_type": "text",
    "id": "ETBpNnVu_4mk"
   },
   "source": [
    "# SECTION II - MCQ/Short Answer test"
   ]
  },
  {
   "cell_type": "markdown",
   "metadata": {
    "colab_type": "text",
    "id": "kfgOqfLx_4wM"
   },
   "source": [
    "## Part 1- RTRL (Recurrent Neural Network)"
   ]
  },
  {
   "cell_type": "markdown",
   "metadata": {
    "colab_type": "text",
    "id": "8rBL6mmG_4t1"
   },
   "source": [
    "\n",
    "Suppose 'y' is a timeseries data (which is obtained from the following linear equation) \n",
    "\n",
    "####$y(t+1) = w_0y(t) + w_1y(t-1) + w_2u(t) $<br>\n",
    "\n",
    "####$w = [w_0, \\; w_1, \\; w_2]$\n",
    "####If  $\\; w = [1.1, \\; -0.3, \\;0.5], \\; y(t)=2, \\; y(t-1) = 0.8 \\;$ and $\\; u(t) = 1.2$ <br><br>\n",
    "$\\Large \\frac{\\partial y(t)}{\\partial w_0} = 0, \\; \\; \\frac{\\partial y(t-1)}{\\partial w_0} = 1.5$<br><br>\n",
    "$\\Large \\frac{\\partial y(t)}{\\partial w_1} = 0.7, \\; \\; \\frac{\\partial y(t-1)}{\\partial w_1} = 0.2$<br><br>\n",
    "$\\Large \\frac{\\partial y(t)}{\\partial w_2} = 1, \\; \\; \\frac{\\partial y(t-1)}{\\partial w_2} = 0.6$\n",
    "\n"
   ]
  },
  {
   "cell_type": "markdown",
   "metadata": {
    "colab_type": "text",
    "id": "KXDfd4T6BJfz"
   },
   "source": [
    "###Question 1. Which of the following is correct\n",
    "<br>\n",
    "$$\n",
    "a) \\frac{\\partial y(t+1)}{\\partial w_0} = w_0\\frac{\\partial y(t)}{\\partial w_0} + y(t-1) + w_1\\frac{\\partial y(t-1)}{\\partial w_0}\n",
    "$$\n",
    "<br>\n",
    "$$\n",
    "b) \\frac{\\partial y(t+1)}{\\partial w_0} = w_0\\frac{\\partial y(t)}{\\partial w_0} + y(t) + w_1\\frac{\\partial y(t-1)}{\\partial w_0}\n",
    "$$\n",
    "<br>\n",
    "$$\n",
    "c) \\frac{\\partial y(t+1)}{\\partial w_0} = w_0\\frac{\\partial y(t)}{\\partial w_0} + w_oy(t) + w_1\\frac{\\partial y(t-1)}{\\partial w_0}\n",
    "$$\n",
    "<br>\n",
    "$$\n",
    "d) \\frac{\\partial y(t+1)}{\\partial w_0} = w_0\\frac{\\partial y(t)}{\\partial w_0} + u(t) + w_1\\frac{\\partial y(t-1)}{\\partial w_0}\n",
    "$$\n",
    "<br>\n",
    "###Note: \n",
    "Write<br>\n",
    "ans1a='a' in the code cell provided below (if answer is 'a')<br>\n",
    "else ans1a='b' (if answer is 'b')<br>\n",
    "else ans1a='c' (if answer is 'c')<br>\n",
    "else ans1a='d' (if answer is 'd')<br>"
   ]
  },
  {
   "cell_type": "code",
   "execution_count": null,
   "metadata": {
    "colab": {},
    "colab_type": "code",
    "id": "HBudXkfQA51b"
   },
   "outputs": [],
   "source": [
    "ans1a = ''"
   ]
  },
  {
   "cell_type": "code",
   "execution_count": null,
   "metadata": {
    "colab": {},
    "colab_type": "code",
    "deletable": false,
    "editable": false,
    "id": "N9iy1XB8CEPE",
    "nbgrader": {
     "checksum": "206444f176b6e836add9e01dabb961a6",
     "grade": true,
     "grade_id": "cell-7ceb5c3b075dabf5",
     "locked": true,
     "points": 2,
     "schema_version": 1,
     "solution": false
    }
   },
   "outputs": [],
   "source": [
    "'''test for 1a'''\n",
    "def test_1a():\n",
    "  \n",
    "test_1a()"
   ]
  },
  {
   "cell_type": "markdown",
   "metadata": {
    "colab_type": "text",
    "id": "F1twX5GUCKn8"
   },
   "source": [
    "###Question 2. Which of the following is correct\n",
    "\n",
    "$$a) \\; \\large \\frac{\\partial y(t+1)}{\\partial w_2} = 1.52$$<br>\n",
    "$$b) \\; \\large \\frac{\\partial y(t+1)}{\\partial w_2} = 2.62$$<br>\n",
    "$$c) \\; \\large \\frac{\\partial y(t+1)}{\\partial w_2} = 4.32$$<br>\n",
    "$$d) \\; \\large \\frac{\\partial y(t+1)}{\\partial w_2} = 2.12$$<br>\n",
    "\n",
    "###Note: \n",
    "Write<br>\n",
    "ans1b='a' in the code cell provided below (if answer is 'a')<br>\n",
    "else ans1b='b' (if answer is 'b')<br>\n",
    "else ans1b='c' (if answer is 'c')<br>\n",
    "else ans1b='d' (if answer is 'd')<br>"
   ]
  },
  {
   "cell_type": "code",
   "execution_count": null,
   "metadata": {
    "colab": {},
    "colab_type": "code",
    "id": "VPFBf7KHCHgW"
   },
   "outputs": [],
   "source": [
    "ans1b = ''"
   ]
  },
  {
   "cell_type": "code",
   "execution_count": null,
   "metadata": {
    "colab": {},
    "colab_type": "code",
    "deletable": false,
    "editable": false,
    "id": "vhVDZYM5COGi",
    "nbgrader": {
     "checksum": "36986ad3a25ffe0382e585f4282503b5",
     "grade": true,
     "grade_id": "cell-57146823cd6cc87c",
     "locked": true,
     "points": 2,
     "schema_version": 1,
     "solution": false
    }
   },
   "outputs": [],
   "source": [
    "'''test for 1b'''\n",
    "def test_1b():\n",
    "  \n",
    "test_1b()"
   ]
  },
  {
   "cell_type": "markdown",
   "metadata": {
    "colab_type": "text",
    "id": "KgfyPTNtCRLG"
   },
   "source": [
    "###Question 3. Which of the following is correct\n",
    "\n",
    "$$a) \\; \\large \\frac{\\partial y(t+1)}{\\partial w_1} = 1.52$$<br>\n",
    "$$b) \\; \\large \\frac{\\partial y(t+1)}{\\partial w_1} = 1.51$$<br>\n",
    "$$c) \\; \\large \\frac{\\partial y(t+1)}{\\partial w_1} = 2.32$$<br>\n",
    "$$d) \\; \\large \\frac{\\partial y(t+1)}{\\partial w_1} = 2.12$$<br>\n",
    "\n",
    "###Note: \n",
    "Write<br>\n",
    "ans1c='a' in the code cell provided below (if answer is 'a')<br>\n",
    "else ans1c='b' (if answer is 'b')<br>\n",
    "else ans1c='c' (if answer is 'c')<br>\n",
    "else ans1c='d' (if answer is 'd')<br>"
   ]
  },
  {
   "cell_type": "code",
   "execution_count": null,
   "metadata": {
    "colab": {},
    "colab_type": "code",
    "id": "Kd3L03lfCP95"
   },
   "outputs": [],
   "source": [
    "ans1c = ''"
   ]
  },
  {
   "cell_type": "code",
   "execution_count": null,
   "metadata": {
    "colab": {},
    "colab_type": "code",
    "deletable": false,
    "editable": false,
    "id": "Az-HAVrhCWta",
    "nbgrader": {
     "checksum": "398f244ec157cf97c5f9bf6ac0617948",
     "grade": true,
     "grade_id": "cell-6658dd0450ca114d",
     "locked": true,
     "points": 2,
     "schema_version": 1,
     "solution": false
    }
   },
   "outputs": [],
   "source": [
    "'''test for 1c'''\n",
    "def test_1c():\n",
    "test_1c()"
   ]
  },
  {
   "cell_type": "markdown",
   "metadata": {
    "colab_type": "text",
    "id": "SHeKW17oCYb0"
   },
   "source": [
    "###Question 4. Which of the following is correct\n",
    "\n",
    "$$a) \\; \\large \\frac{\\partial y(t+1)}{\\partial w_0} = 1.55$$<br>\n",
    "$$b) \\; \\large \\frac{\\partial y(t+1)}{\\partial w_0} = 1.5$$<br>\n",
    "$$c) \\; \\large \\frac{\\partial y(t+1)}{\\partial w_0} = 2.35$$<br>\n",
    "$$d) \\; \\large \\frac{\\partial y(t+1)}{\\partial w_0} = 1.125$$<br>\n",
    "\n",
    "###Note: \n",
    "Write<br>\n",
    "ans1d='a' in the code cell provided below (if answer is 'a')<br>\n",
    "else ans1d='b' (if answer is 'b')<br>\n",
    "else ans1d='c' (if answer is 'c')<br>\n",
    "else ans1d='d' (if answer is 'd')<br>"
   ]
  },
  {
   "cell_type": "code",
   "execution_count": null,
   "metadata": {
    "colab": {},
    "colab_type": "code",
    "id": "H7ieLGyOCaXN"
   },
   "outputs": [],
   "source": [
    "ans1d = ''"
   ]
  },
  {
   "cell_type": "code",
   "execution_count": null,
   "metadata": {
    "colab": {},
    "colab_type": "code",
    "deletable": false,
    "editable": false,
    "id": "TohwXpPyCcCs",
    "nbgrader": {
     "checksum": "33ee301c35bdfe0e8b1d6402c6e45ee1",
     "grade": true,
     "grade_id": "cell-7fefec420e3adc28",
     "locked": true,
     "points": 2,
     "schema_version": 1,
     "solution": false
    }
   },
   "outputs": [],
   "source": [
    "'''test for 1d'''\n",
    "def test_1d():\n",
    "  \n",
    "test_1d()"
   ]
  },
  {
   "cell_type": "markdown",
   "metadata": {
    "colab_type": "text",
    "id": "Jc2ZExvDCgAp"
   },
   "source": [
    "###Question 5. Which of the following is correct weight update formula\n",
    "\n",
    "###given $\\; E = \\frac{1}{2}(y_d - y)^2$ <br>\n",
    "\n",
    "\n",
    "\n",
    "\n",
    "$$a) \\; \\large w_{new} = w_{old} - \\eta(y_d - y)\\cdot \\frac{\\partial y(t)}{\\partial w} $$<br>\n",
    "$$b) \\; \\large w_{new} = w_{old} + \\eta(y_d - y)\\cdot \\frac{\\partial y(t+1)}{\\partial w} $$<br>\n",
    "$$c) \\; \\large w_{new} = w_{old} - \\eta(y_d - y)\\cdot \\frac{\\partial y(t+1)}{\\partial w} $$<br>\n",
    "$$d) \\; \\large w_{new} = w_{old} + \\eta(y_d - y)\\cdot \\frac{\\partial y(t)}{\\partial w} $$<br>\n",
    "\n",
    "###Note: \n",
    "Write<br>\n",
    "ans1e='a' in the code cell provided below (if answer is 'a')<br>\n",
    "else ans1e='b' (if answer is 'b')<br>\n",
    "else ans1e='c' (if answer is 'c')<br>\n",
    "else ans1e='d' (if answer is 'd')<br>"
   ]
  },
  {
   "cell_type": "code",
   "execution_count": null,
   "metadata": {
    "colab": {},
    "colab_type": "code",
    "id": "KBS_VOj1CdLn"
   },
   "outputs": [],
   "source": [
    "ans1e = ''"
   ]
  },
  {
   "cell_type": "code",
   "execution_count": null,
   "metadata": {
    "colab": {},
    "colab_type": "code",
    "deletable": false,
    "editable": false,
    "id": "23QE9ZS1CiiI",
    "nbgrader": {
     "checksum": "d1ae79626ceb810abdd570b5a110661a",
     "grade": true,
     "grade_id": "cell-d782350d0c1914f1",
     "locked": true,
     "points": 2,
     "schema_version": 1,
     "solution": false
    }
   },
   "outputs": [],
   "source": [
    "'''test for 1e'''\n",
    "def test_1e():\n",
    "test_1e()"
   ]
  },
  {
   "cell_type": "markdown",
   "metadata": {
    "colab_type": "text",
    "id": "z_qQXyszCmZ3"
   },
   "source": [
    "###Question 6. If  $\\; \\eta = 1, \\; y_d = 2.66\\; and\\; w_{old}=[1.1,\\; -0.3,\\; 0.5].\\; $ Then, which of the following is correct <br><br>\n",
    "\n",
    "$$a) \\; \\large w_{new} = [0.915, \\; -0.461,\\; 0.188]$$<br>\n",
    "$$b) \\; \\large w_{new} = [0.965, \\; -0.481,\\; 0.388]$$<br>\n",
    "$$c) \\; \\large w_{new} = [0.925, \\; -0.411,\\; 0.488]$$<br>\n",
    "$$d) \\; \\large w_{new} = [0.945, \\; -0.451,\\; 0.288]$$<br>\n",
    "\n",
    "###Note: \n",
    "Write<br>\n",
    "ans1f='a' in the code cell provided below (if answer is 'a')<br>\n",
    "else ans1f='b' (if answer is 'b')<br>\n",
    "else ans1f='c' (if answer is 'c')<br>\n",
    "else ans1f='d' (if answer is 'd')<br>"
   ]
  },
  {
   "cell_type": "code",
   "execution_count": null,
   "metadata": {
    "colab": {},
    "colab_type": "code",
    "id": "O-38bdr2CjfP"
   },
   "outputs": [],
   "source": [
    "ans1f = ''"
   ]
  },
  {
   "cell_type": "code",
   "execution_count": null,
   "metadata": {
    "colab": {},
    "colab_type": "code",
    "deletable": false,
    "editable": false,
    "id": "q_HWYfRlCpd6",
    "nbgrader": {
     "checksum": "b2577b362ab756c352063ba44a3fa8fb",
     "grade": true,
     "grade_id": "cell-a12f65a0f422a36e",
     "locked": true,
     "points": 2,
     "schema_version": 1,
     "solution": false
    }
   },
   "outputs": [],
   "source": [
    "'''test for 1f'''\n",
    "def test_1f():\n",
    "test_1f()"
   ]
  },
  {
   "cell_type": "markdown",
   "metadata": {
    "colab_type": "text",
    "id": "4Ca18JVaHJtu"
   },
   "source": [
    "## Part 2 - CNN (Convolutional Neural Network)"
   ]
  },
  {
   "cell_type": "markdown",
   "metadata": {
    "colab_type": "text",
    "id": "P8zoN3KZHZtH"
   },
   "source": [
    "### Question 1\n",
    "In the following figure,what is the total number of tunable parameters including the biases?\n",
    "\n",
    "<img src=\"https://drive.google.com/uc?id=1yqMW2TSlME3YrjlspOUbVxnayHws3-3v\" title=\"\" align=\"center\" width=\"50%\" height=\"100%\"/> <br>\n"
   ]
  },
  {
   "cell_type": "code",
   "execution_count": null,
   "metadata": {
    "colab": {},
    "colab_type": "code",
    "id": "qxIjERDwHRwv"
   },
   "outputs": [],
   "source": [
    "# type the value of the total number of parameters\n",
    "Num_Param = "
   ]
  },
  {
   "cell_type": "code",
   "execution_count": null,
   "metadata": {
    "colab": {},
    "colab_type": "code",
    "deletable": false,
    "editable": false,
    "id": "r5Eo0xovHeOH",
    "nbgrader": {
     "checksum": "eabb5ca220608d763e02ccb2e9e2373b",
     "grade": true,
     "grade_id": "cell-c340a3455b7beae5",
     "locked": true,
     "points": 1,
     "schema_version": 1,
     "solution": false
    }
   },
   "outputs": [],
   "source": [
    "'''test for Num_of_Param '''"
   ]
  },
  {
   "cell_type": "markdown",
   "metadata": {
    "colab_type": "text",
    "id": "q8UqPN5fH1dS"
   },
   "source": [
    "### Question 2\n",
    "\n",
    "The CNN used to solve MNIST hand written digit identification problem has following\n",
    "architecture:\n",
    "*   Input has the dimension 27x27x1 .\n",
    "*   The first layer uses 25 filters of kernel size 5x5. The convolution takes place with stride = 1, Padding is zero and activation is ReLU\n",
    "*   The second layer employs 30 filters of kernel size of 7x7, with stride = 2, padding is zero and activation is ReLU\n",
    "*   The output layer is a simple classifier (fully connected) that actuates the actual digit in terms of one-hot coding.\n",
    "####Find the dimension of the response in the first layer\n"
   ]
  },
  {
   "cell_type": "code",
   "execution_count": null,
   "metadata": {
    "colab": {},
    "colab_type": "code",
    "id": "rkoE8wNxHfxT"
   },
   "outputs": [],
   "source": [
    "# Fill the dimensions below\n",
    "dim_first = [ , , ]"
   ]
  },
  {
   "cell_type": "code",
   "execution_count": null,
   "metadata": {
    "colab": {},
    "colab_type": "code",
    "deletable": false,
    "editable": false,
    "id": "csmWR79uInmD",
    "nbgrader": {
     "checksum": "be78af123c93538970fd978a8c090311",
     "grade": true,
     "grade_id": "cell-ab56c262a5e6e553",
     "locked": true,
     "points": 1,
     "schema_version": 1,
     "solution": false
    }
   },
   "outputs": [],
   "source": [
    "'''test for dim_first'''"
   ]
  },
  {
   "cell_type": "markdown",
   "metadata": {
    "colab_type": "text",
    "id": "RUlN5axUItCn"
   },
   "source": [
    "###Question 3\n",
    "In Question 2 above, Find the dimension of the response in the second layer."
   ]
  },
  {
   "cell_type": "code",
   "execution_count": null,
   "metadata": {
    "colab": {},
    "colab_type": "code",
    "id": "JnPL0nAvIp9I"
   },
   "outputs": [],
   "source": [
    "# Fill the dimensions below\n",
    "dim_second = [ , , ]"
   ]
  },
  {
   "cell_type": "code",
   "execution_count": null,
   "metadata": {
    "colab": {},
    "colab_type": "code",
    "deletable": false,
    "editable": false,
    "id": "96HJGbyfI8D6",
    "nbgrader": {
     "checksum": "98de414b4cbce567fe590b886008e1bc",
     "grade": true,
     "grade_id": "cell-2e764271dcc35e3f",
     "locked": true,
     "points": 1,
     "schema_version": 1,
     "solution": false
    }
   },
   "outputs": [],
   "source": [
    "'''test for dim_second'''"
   ]
  },
  {
   "cell_type": "markdown",
   "metadata": {
    "colab_type": "text",
    "id": "3Jha0b6OJCDc"
   },
   "source": [
    "###Question 4 \n",
    "Find the number of parameters that will be estimated using gradient descent algorithm (including the biases)"
   ]
  },
  {
   "cell_type": "code",
   "execution_count": null,
   "metadata": {
    "colab": {},
    "colab_type": "code",
    "id": "cir7uVRHI-EB"
   },
   "outputs": [],
   "source": [
    "#Provide the value of num_grad\n",
    "num_grad = "
   ]
  },
  {
   "cell_type": "code",
   "execution_count": null,
   "metadata": {
    "colab": {},
    "colab_type": "code",
    "deletable": false,
    "editable": false,
    "id": "X3uq8ieoJTW7",
    "nbgrader": {
     "checksum": "7962c1ca52a49e324f6a7eb13410165b",
     "grade": true,
     "grade_id": "cell-225708842107d37e",
     "locked": true,
     "points": 1,
     "schema_version": 1,
     "solution": false
    }
   },
   "outputs": [],
   "source": [
    "'''test'''"
   ]
  },
  {
   "cell_type": "markdown",
   "metadata": {
    "colab_type": "text",
    "id": "CbWyEMWbJx5x"
   },
   "source": [
    "## Part 3 - Keras Model Building"
   ]
  },
  {
   "cell_type": "markdown",
   "metadata": {
    "colab_type": "text",
    "id": "79CfoGCpJ1HN"
   },
   "source": [
    "### Question 1\n",
    "In the following python code using a sequential model from keras library  <br>\n",
    "\n",
    "\n",
    "model.add(Dense(10, input_dim= 100, activation='relu')) <br>\n",
    "model.add(Dense(8, activation='relu')) <br>\n",
    "model.add(Dense(5, activation='relu')) <br>\n",
    "model.add(Dense(5, activation='softmax')) <br>\n",
    "\n",
    "#### What is the total number of weights to be trained (including the biases)? <br> \n"
   ]
  },
  {
   "cell_type": "code",
   "execution_count": null,
   "metadata": {
    "colab": {},
    "colab_type": "code",
    "id": "Wrms2ma_J4ag"
   },
   "outputs": [],
   "source": [
    "Num_of_Param = "
   ]
  },
  {
   "cell_type": "code",
   "execution_count": null,
   "metadata": {
    "colab": {},
    "colab_type": "code",
    "deletable": false,
    "editable": false,
    "id": "JrieX_MFKAUr",
    "nbgrader": {
     "checksum": "308f2fb24386d68b5adb70f29e6e8ad3",
     "grade": true,
     "grade_id": "cell-11069dbc71b45a88",
     "locked": true,
     "points": 2,
     "schema_version": 1,
     "solution": false
    }
   },
   "outputs": [],
   "source": [
    "'''test for Num_of_Param '''"
   ]
  },
  {
   "cell_type": "code",
   "execution_count": null,
   "metadata": {
    "colab": {},
    "colab_type": "code",
    "id": "jOhtVC_-TRE2"
   },
   "outputs": [],
   "source": []
  }
 ],
 "metadata": {
  "colab": {
   "collapsed_sections": [
    "rIJuWZIxDVRe",
    "3nGJviA1yl_S",
    "8WNq6V_S5Y4m",
    "r0wCWIsq-NtS",
    "dU4U7OPd-iNT",
    "kfgOqfLx_4wM",
    "4Ca18JVaHJtu",
    "P8zoN3KZHZtH",
    "q8UqPN5fH1dS",
    "RUlN5axUItCn",
    "3Jha0b6OJCDc",
    "CbWyEMWbJx5x"
   ],
   "name": "GRAND_TEST_COMPILED.ipynb",
   "provenance": [
    {
     "file_id": "1nat8Uen_oxDhDiEUc9gX8jAwJDbSTlHw",
     "timestamp": 1561552270366
    }
   ],
   "version": "0.3.2"
  },
  "kernelspec": {
   "display_name": "Python 3",
   "language": "python",
   "name": "python3"
  },
  "language_info": {
   "codemirror_mode": {
    "name": "ipython",
    "version": 3
   },
   "file_extension": ".py",
   "mimetype": "text/x-python",
   "name": "python",
   "nbconvert_exporter": "python",
   "pygments_lexer": "ipython3",
   "version": "3.6.8"
  }
 },
 "nbformat": 4,
 "nbformat_minor": 1
}
